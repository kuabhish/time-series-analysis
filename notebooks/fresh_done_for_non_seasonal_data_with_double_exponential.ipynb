{
 "cells": [
  {
   "cell_type": "code",
   "execution_count": 23,
   "metadata": {},
   "outputs": [],
   "source": [
    "import pandas as pd\n",
    "import numpy as np\n",
    "import seaborn as sns\n",
    "import matplotlib.pyplot as plt\n",
    "import utils\n",
    "import time\n",
    "from collections import deque\n",
    "from random import random\n",
    "from ipykernel import kernelapp as app\n",
    "from statsmodels.tsa.holtwinters import SimpleExpSmoothing, ExponentialSmoothing\n",
    "from numpy.random import choice\n",
    "from sklearn.metrics import mean_absolute_error, mean_squared_error\n",
    "from sklearn import datasets\n",
    "from sklearn.metrics import r2_score, accuracy_score , mean_squared_error, log_loss, mean_absolute_error\n",
    "from sklearn.model_selection import cross_val_score, KFold, StratifiedKFold\n",
    "from hyperopt import tpe , hp, Trials , fmin , STATUS_OK , space_eval\n",
    "import warnings\n",
    "from functools import partial\n",
    "warnings.filterwarnings('ignore')\n",
    "\n",
    "import scipy\n",
    "from scipy import signal\n"
   ]
  },
  {
   "cell_type": "code",
   "execution_count": 24,
   "metadata": {},
   "outputs": [],
   "source": [
    "def generate_random(lb = -0.1, ub = 0.1):\n",
    "    return (ub-lb)*(np.random.random()) + lb"
   ]
  },
  {
   "cell_type": "code",
   "execution_count": 64,
   "metadata": {},
   "outputs": [],
   "source": [
    "def datagen():\n",
    "  x = [ 1,2,3,4,5,6 ]\n",
    "  if len(x) >0:\n",
    "    for y in x:\n",
    "      yield y\n",
    "      x.append(y)"
   ]
  },
  {
   "cell_type": "code",
   "execution_count": 26,
   "metadata": {},
   "outputs": [
    {
     "name": "stdout",
     "output_type": "stream",
     "text": [
      "(36, 1)\n"
     ]
    },
    {
     "data": {
      "text/html": [
       "<div>\n",
       "<style scoped>\n",
       "    .dataframe tbody tr th:only-of-type {\n",
       "        vertical-align: middle;\n",
       "    }\n",
       "\n",
       "    .dataframe tbody tr th {\n",
       "        vertical-align: top;\n",
       "    }\n",
       "\n",
       "    .dataframe thead th {\n",
       "        text-align: right;\n",
       "    }\n",
       "</style>\n",
       "<table border=\"1\" class=\"dataframe\">\n",
       "  <thead>\n",
       "    <tr style=\"text-align: right;\">\n",
       "      <th></th>\n",
       "      <th>Sales</th>\n",
       "    </tr>\n",
       "    <tr>\n",
       "      <th>Month</th>\n",
       "      <th></th>\n",
       "    </tr>\n",
       "  </thead>\n",
       "  <tbody>\n",
       "    <tr>\n",
       "      <th>1-01</th>\n",
       "      <td>266.0</td>\n",
       "    </tr>\n",
       "    <tr>\n",
       "      <th>1-02</th>\n",
       "      <td>145.9</td>\n",
       "    </tr>\n",
       "    <tr>\n",
       "      <th>1-03</th>\n",
       "      <td>183.1</td>\n",
       "    </tr>\n",
       "    <tr>\n",
       "      <th>1-04</th>\n",
       "      <td>119.3</td>\n",
       "    </tr>\n",
       "    <tr>\n",
       "      <th>1-05</th>\n",
       "      <td>180.3</td>\n",
       "    </tr>\n",
       "  </tbody>\n",
       "</table>\n",
       "</div>"
      ],
      "text/plain": [
       "       Sales\n",
       "Month       \n",
       "1-01   266.0\n",
       "1-02   145.9\n",
       "1-03   183.1\n",
       "1-04   119.3\n",
       "1-05   180.3"
      ]
     },
     "execution_count": 26,
     "metadata": {},
     "output_type": "execute_result"
    }
   ],
   "source": [
    "df = pd.read_csv('../data/shampoo.txt')\n",
    "df = df.set_index('Month')\n",
    "print(df.shape)\n",
    "df.head()"
   ]
  },
  {
   "cell_type": "code",
   "execution_count": 27,
   "metadata": {},
   "outputs": [
    {
     "data": {
      "text/plain": [
       "<matplotlib.axes._subplots.AxesSubplot at 0x7f2e558721d0>"
      ]
     },
     "execution_count": 27,
     "metadata": {},
     "output_type": "execute_result"
    },
    {
     "data": {
      "image/png": "[encoded data removed]",
      "text/plain": [
       "<Figure size 432x288 with 1 Axes>"
      ]
     },
     "metadata": {
      "needs_background": "light"
     },
     "output_type": "display_data"
    }
   ],
   "source": [
    "sns.lineplot(df.index,df.Sales)"
   ]
  },
  {
   "cell_type": "code",
   "execution_count": null,
   "metadata": {},
   "outputs": [],
   "source": []
  },
  {
   "cell_type": "code",
   "execution_count": 28,
   "metadata": {},
   "outputs": [],
   "source": [
    "def double_exponential_smoothing_2(series, alpha=0.5, beta=0.5):\n",
    "    result = [series[0]]\n",
    "    for n in range(1, len(series)+1):\n",
    "        if n == 1:\n",
    "            if len(series)>4:\n",
    "                level, trend = series[0], (np.sum(series[1:4]) - np.sum(series[0:3]) )/3\n",
    "            else:\n",
    "                level, trend = series[0], series[1] - series[0]\n",
    "#             print(trend, level)\n",
    "        if n >= len(series): # forecasting\n",
    "            value = result[-1]\n",
    "        else:\n",
    "            value = series[n]\n",
    "        last_level, level = level, alpha*value + (1-alpha)*(level+trend)\n",
    "        trend = beta*(level-last_level) + (1-beta)*trend\n",
    "        result.append(np.around(level+trend,1))\n",
    "    return result"
   ]
  },
  {
   "cell_type": "code",
   "execution_count": 29,
   "metadata": {},
   "outputs": [],
   "source": [
    "def double_exponential_smoothing(x , a=0.5, g=0.5 ):\n",
    "    \n",
    "  res = [np.nan]\n",
    "  s = [x[0]]\n",
    "    \n",
    "  if len(x)>4:\n",
    "      b = [(np.sum(x[1:4]) - np.sum(x[0:3]) )/3]\n",
    "  else:\n",
    "      b = [x[1]-x[0]]\n",
    "  res.append(s[0]+b[0])\n",
    "  for t in range(1,len(x)):\n",
    "    s.append(np.around(a*x[t] + (1-a)*( s[t-1]+b[t-1] ) ,1) )\n",
    "    b.append( g*(s[t] - s[t-1]) + (1-g)*(b[t-1]) )\n",
    "    res.append(np.around(s[t]+b[t],1))\n",
    "  return s , res"
   ]
  },
  {
   "cell_type": "code",
   "execution_count": 30,
   "metadata": {},
   "outputs": [
    {
     "name": "stdout",
     "output_type": "stream",
     "text": [
      "[1, 2, 3, 4, 5, 6, 1, 2, 3, 4, 5, 6, 1, 2, 3, 4, 5, 6, 1, 2, 3, 4, 5, 6] 24\n",
      "[nan, 2.0, 3.0, 4.0, 5.0, 6.0, 7.0, 3.6, 1.2, 0.8, 2.1, 4.4, 6.8, 4.4, 2.3, 1.7, 2.4, 4.1, 6.3, 4.0, 2.2, 1.7, 2.5, 4.3, 6.4]\n"
     ]
    }
   ],
   "source": [
    "x = [ 1 , 2 , 3 , 4 , 5, 6 ,1,2,3,4,5,6,1,2,3,4,5,6,1,2,3,4,5,6]\n",
    "# x = [6.4,  5.6,  7.8,  8.8,  11,  11.6,  16.7,  15.3,  21.6,  22.4]\n",
    "# x = [6.4,  5.6, 7.8 , 8.8,  11,  11.6 ]#,  16.7,  15.3,  21.6,  22.4]\n",
    "print( x , len(x))\n",
    "print(double_exponential_smoothing(x , 0.3626 , 1.0 )[1])\n",
    "# print(double_exponential_smoothing_2(x , 0.3626 , 1.0 ))"
   ]
  },
  {
   "cell_type": "code",
   "execution_count": 31,
   "metadata": {},
   "outputs": [
    {
     "data": {
      "text/plain": [
       "[<matplotlib.lines.Line2D at 0x7f2e554639d0>]"
      ]
     },
     "execution_count": 31,
     "metadata": {},
     "output_type": "execute_result"
    },
    {
     "data": {
      "image/png": "[encoded data removed]",
      "text/plain": [
       "<Figure size 432x288 with 1 Axes>"
      ]
     },
     "metadata": {
      "needs_background": "light"
     },
     "output_type": "display_data"
    }
   ],
   "source": [
    "plt.plot(x)"
   ]
  },
  {
   "cell_type": "code",
   "execution_count": 32,
   "metadata": {},
   "outputs": [],
   "source": [
    "# data = pd.DataFrame({'x':x ,\n",
    "#                      'ds_': double_exponential_smoothing(x , 0.3626 , 1.0 )[0] ,\n",
    "#                      'forecast':double_exponential_smoothing(x , 0.3626 , 1.0 )[1][:-1]})\n",
    "# data"
   ]
  },
  {
   "cell_type": "code",
   "execution_count": 60,
   "metadata": {},
   "outputs": [],
   "source": [
    "def check_seasonality(series):\n",
    "    ac = np.correlate( series , series , mode='full' )\n",
    "    peaks = signal.find_peaks(ac[ac.shape[0]//2:])[0]\n",
    "    if len(peaks) == 0:\n",
    "        return None\n",
    "    return list(peaks)"
   ]
  },
  {
   "cell_type": "code",
   "execution_count": 61,
   "metadata": {},
   "outputs": [
    {
     "data": {
      "text/plain": [
       "[6, 12, 18]"
      ]
     },
     "execution_count": 61,
     "metadata": {},
     "output_type": "execute_result"
    }
   ],
   "source": [
    "check_seasonality(x)"
   ]
  },
  {
   "cell_type": "code",
   "execution_count": 73,
   "metadata": {
    "scrolled": true
   },
   "outputs": [
    {
     "name": "stdout",
     "output_type": "stream",
     "text": [
      "forecasted val in the 0 th          index is 0 and actual is 1          and the separation is1\n",
      "forecasted val in the 1 th          index is 0 and actual is 2          and the separation is2\n",
      "100%|██████████| 100/100 [00:00<00:00, 168.75it/s, best loss: 0.0]\n",
      "{'a': 0.7634497505165035, 'g': 0.24911086846519115}\n",
      "forecasted val in the 2 th          index is 3.0 and actual is 3          and the separation is0.0\n",
      "100%|██████████| 100/100 [00:00<00:00, 160.83it/s, best loss: 0.0]\n",
      "{'a': 0.9810368600591758, 'g': 0.7673850189896675}\n",
      "forecasted val in the 3 th          index is 4.0 and actual is 4          and the separation is0.0\n",
      "100%|██████████| 100/100 [00:00<00:00, 160.34it/s, best loss: 0.0]\n",
      "{'a': 0.12408610987616808, 'g': 0.714354947312137}\n",
      "forecasted val in the 4 th          index is 5.0 and actual is 5          and the separation is0.0\n",
      "100%|██████████| 100/100 [00:00<00:00, 163.74it/s, best loss: 0.0]\n",
      "{'a': 0.5714584829474384, 'g': 0.33107505705850815}\n",
      "forecasted val in the 5 th          index is 6.0 and actual is 6          and the separation is0.0\n",
      "100%|██████████| 100/100 [00:00<00:00, 162.92it/s, best loss: 0.0]\n",
      "{'a': 0.9071119520354668, 'g': 0.45547897437786034}\n",
      "forecasted val in the 6 th          index is 7.0 and actual is 1          and the separation is6.0\n",
      "100%|██████████| 100/100 [00:00<00:00, 152.33it/s, best loss: 6.0]\n",
      "{'a': 0.04626311411563211, 'g': 0.2689244529306759}\n",
      "forecasted val in the 7 th          index is 7.6 and actual is 2          and the separation is6.0\n",
      "100%|██████████| 100/100 [00:00<00:00, 137.96it/s, best loss: 5.142857142857143]\n",
      "{'a': 0.9620563728618129, 'g': 0.03654708839231956}\n",
      "forecasted val in the 8 th          index is 2.8 and actual is 3          and the separation is0.0\n",
      "100%|██████████| 100/100 [00:00<00:00, 131.67it/s, best loss: 4.50125]\n",
      "{'a': 0.9765377048899588, 'g': 0.007627523568732114}\n",
      "forecasted val in the 9 th          index is 4.0 and actual is 4          and the separation is0.0\n",
      "No season\n",
      "100%|██████████| 100/100 [00:00<00:00, 126.69it/s, best loss: 4.01]            \n",
      "{'a': 0.9509735892161292, 'g': 0.027363450575300652}\n",
      "forecasted val in the 10 th          index is 4.8 and actual is 5          and the separation is0.0\n",
      "100%|██████████| 100/100 [00:00<00:00, 132.27it/s, best loss: 3.6]              \n",
      "{'a': 0.9988244226650577, 'g': 0.001914699291099227}\n",
      "forecasted val in the 11 th          index is 6.0 and actual is 6          and the separation is0.0\n",
      "100%|██████████| 100/100 [00:00<00:00, 121.47it/s, best loss: 3.272727272727273]\n",
      "{'a': 0.9948237355292788, 'g': 0.0016814360654508545}\n",
      "forecasted val in the 12 th          index is 7.0 and actual is 1          and the separation is6.0\n",
      "100%|██████████| 100/100 [00:00<00:00, 143.41it/s, best loss: 5.610833333333335]\n",
      "{'a': 0.4944910063486639, 'g': 0.20524875722951708}\n",
      "forecasted val in the 13 th          index is 3.3 and actual is 2          and the separation is1.0\n",
      "100%|██████████| 100/100 [00:00<00:00, 139.43it/s, best loss: 5.186923076923076]\n",
      "{'a': 0.6423581049680881, 'g': 0.1911186693715303}\n",
      "forecasted val in the 14 th          index is 2.0 and actual is 3          and the separation is1.0\n",
      "100%|██████████| 100/100 [00:00<00:00, 119.68it/s, best loss: 4.908571428571429]\n",
      "{'a': 0.6618269623435364, 'g': 0.1633680217469009}\n",
      "forecasted val in the 15 th          index is 2.7 and actual is 4          and the separation is1.0\n",
      "100%|██████████| 100/100 [00:00<00:00, 112.31it/s, best loss: 4.5873333333333335]\n",
      "{'a': 0.8407282899006687, 'g': 0.09154596214421595}\n",
      "forecasted val in the 16 th          index is 4.2 and actual is 5          and the separation is1.0\n",
      "100%|██████████| 100/100 [00:00<00:00, 139.61it/s, best loss: 4.370625]        \n",
      "{'a': 0.8960091880425786, 'g': 0.10865394175895932}\n",
      "forecasted val in the 17 th          index is 5.3 and actual is 6          and the separation is1.0\n",
      "100%|██████████| 100/100 [00:00<00:00, 124.68it/s, best loss: 4.108823529411765]\n",
      "{'a': 0.8349888173749971, 'g': 0.061649754018045504}\n",
      "forecasted val in the 18 th          index is 6.4 and actual is 1          and the separation is5.0\n",
      "100%|██████████| 100/100 [00:00<00:00, 144.94it/s, best loss: 5.387222222222222]\n",
      "{'a': 0.530383417360882, 'g': 0.1479014701223984}\n",
      "forecasted val in the 19 th          index is 3.2 and actual is 2          and the separation is1.0\n",
      "[6, 12]\n",
      "100%|██████████| 100/100 [00:00<00:00, 140.12it/s, best loss: 5.167368421052632]\n",
      "{'a': 0.6792172044583559, 'g': 0.16806031874967808}\n",
      "forecasted val in the 20 th          index is 1.9 and actual is 3          and the separation is1.0\n",
      "100%|██████████| 100/100 [00:00<00:00, 135.07it/s, best loss: 4.930000000000001]\n",
      "{'a': 0.574915923809804, 'g': 0.13419619216384543}\n",
      "forecasted val in the 21 th          index is 2.7 and actual is 4          and the separation is1.0\n",
      "100%|██████████| 100/100 [00:00<00:00, 133.55it/s, best loss: 4.7890476190476186]\n",
      "{'a': 0.7976072577867241, 'g': 0.07539211112099019}\n",
      "forecasted val in the 22 th          index is 4.1 and actual is 5          and the separation is1.0\n",
      "100%|██████████| 100/100 [00:00<00:00, 130.41it/s, best loss: 4.576363636363637]\n",
      "{'a': 0.8005859094779627, 'g': 0.09544284549192787}\n",
      "forecasted val in the 23 th          index is 5.1 and actual is 6          and the separation is1.0\n",
      "100%|██████████| 100/100 [00:00<00:00, 122.81it/s, best loss: 4.4482608695652175]\n",
      "{'a': 0.7485466389510381, 'g': 0.0592109504318393}\n",
      "forecasted val in the 24 th          index is 6.2 and actual is 1          and the separation is5.0\n",
      "100%|██████████| 100/100 [00:00<00:00, 150.80it/s, best loss: 5.2820833333333335]\n",
      "{'a': 0.38046619244880475, 'g': 0.23434578934904152}\n",
      "forecasted val in the 25 th          index is 3.4 and actual is 2          and the separation is1.0\n",
      "100%|██████████| 100/100 [00:00<00:00, 113.27it/s, best loss: 5.1164]\n",
      "{'a': 0.7332931110596166, 'g': 0.1101712094452994}\n",
      "forecasted val in the 26 th          index is 2.0 and actual is 3          and the separation is1.0\n",
      "100%|██████████| 100/100 [00:00<00:00, 143.44it/s, best loss: 4.922307692307692]\n",
      "{'a': 0.42652551370725633, 'g': 0.17843732045456803}\n",
      "forecasted val in the 27 th          index is 2.7 and actual is 4          and the separation is1.0\n",
      "100%|██████████| 100/100 [00:00<00:00, 108.83it/s, best loss: 4.8244444444444445]\n",
      "{'a': 0.7765243399623982, 'g': 0.09084615216044029}\n",
      "forecasted val in the 28 th          index is 3.8 and actual is 5          and the separation is1.0\n",
      "100%|██████████| 100/100 [00:00<00:00, 133.17it/s, best loss: 4.726071428571429]\n",
      "{'a': 0.7363560907647733, 'g': 0.09867891257388434}\n",
      "forecasted val in the 29 th          index is 4.9 and actual is 6          and the separation is1.0\n",
      "[6, 12, 18, 24]\n",
      "100%|██████████| 100/100 [00:00<00:00, 125.96it/s, best loss: 4.614827586206897]\n",
      "{'a': 0.8295724906928278, 'g': 0.09275096925704127}\n",
      "forecasted val in the 30 th          index is 6.1 and actual is 1          and the separation is5.0\n",
      "100%|██████████| 100/100 [00:00<00:00, 133.03it/s, best loss: 5.054000000000001]\n",
      "{'a': 0.3274604706037934, 'g': 0.2899247428172488}\n",
      "forecasted val in the 31 th          index is 3.6 and actual is 2          and the separation is2.0\n",
      "100%|██████████| 100/100 [00:00<00:00, 142.35it/s, best loss: 4.991290322580646]\n",
      "{'a': 0.3796474612107862, 'g': 0.19864411313407404}\n",
      "forecasted val in the 32 th          index is 2.7 and actual is 3          and the separation is0.0\n",
      "100%|██████████| 100/100 [00:00<00:00, 139.42it/s, best loss: 4.8471874999999995]\n",
      "{'a': 0.2921764194590721, 'g': 0.37190591544022344}\n",
      "forecasted val in the 33 th          index is 2.9 and actual is 4          and the separation is1.0\n",
      "100%|██████████| 100/100 [00:00<00:00, 136.96it/s, best loss: 4.732727272727273]\n",
      "{'a': 0.26675659517094674, 'g': 0.32684405861779475}\n",
      "forecasted val in the 34 th          index is 3.0 and actual is 5          and the separation is2.0\n",
      "100%|██████████| 100/100 [00:00<00:00, 136.30it/s, best loss: 4.688235294117647]\n",
      "{'a': 0.3445019523652934, 'g': 0.22255631856270439}\n",
      "forecasted val in the 35 th          index is 3.9 and actual is 6          and the separation is2.0\n",
      "100%|██████████| 100/100 [00:00<00:00, 124.51it/s, best loss: 4.665428571428572]\n",
      "{'a': 0.7560978693132712, 'g': 0.10278655683701964}\n",
      "forecasted val in the 36 th          index is 6.0 and actual is 1          and the separation is5.0\n"
     ]
    },
    {
     "name": "stdout",
     "output_type": "stream",
     "text": [
      "100%|██████████| 100/100 [00:00<00:00, 136.25it/s, best loss: 4.9750000000000005]\n",
      "{'a': 0.20846819035174466, 'g': 0.47152358156961716}\n",
      "forecasted val in the 37 th          index is 3.7 and actual is 2          and the separation is2.0\n",
      "100%|██████████| 100/100 [00:00<00:00, 143.24it/s, best loss: 4.8924324324324315]\n",
      "{'a': 0.2679042086213945, 'g': 0.24320999097232535}\n",
      "forecasted val in the 38 th          index is 3.1 and actual is 3          and the separation is0.0\n",
      "100%|██████████| 100/100 [00:00<00:00, 139.44it/s, best loss: 4.781578947368422]\n",
      "{'a': 0.41762186120122247, 'g': 0.1471731016701669}\n",
      "forecasted val in the 39 th          index is 2.7 and actual is 4          and the separation is1.0\n",
      "[6, 12, 18, 22, 24, 28]\n",
      "100%|██████████| 100/100 [00:00<00:00, 133.92it/s, best loss: 4.692820512820513]\n",
      "{'a': 0.21581768606984508, 'g': 0.43755705593240435}\n",
      "forecasted val in the 40 th          index is 3.0 and actual is 5          and the separation is2.0\n",
      "100%|██████████| 100/100 [00:00<00:00, 139.27it/s, best loss: 4.623]\n",
      "{'a': 0.2673040963673477, 'g': 0.2405804275261966}\n",
      "forecasted val in the 41 th          index is 3.8 and actual is 6          and the separation is2.0\n",
      "100%|██████████| 100/100 [00:00<00:00, 132.90it/s, best loss: 4.607560975609757]\n",
      "{'a': 0.43746112528272907, 'g': 0.14951495631527523}\n",
      "forecasted val in the 42 th          index is 5.1 and actual is 1          and the separation is4.0\n",
      "100%|██████████| 100/100 [00:00<00:00, 135.57it/s, best loss: 4.853095238095238]\n",
      "{'a': 0.2635476135148751, 'g': 0.25303157388316055}\n",
      "forecasted val in the 43 th          index is 3.7 and actual is 2          and the separation is2.0\n",
      "100%|██████████| 100/100 [00:00<00:00, 133.51it/s, best loss: 4.849534883720931]\n",
      "{'a': 0.449362750684335, 'g': 0.15662626479237757}\n",
      "forecasted val in the 44 th          index is 2.5 and actual is 3          and the separation is0.0\n",
      "100%|██████████| 100/100 [00:00<00:00, 131.73it/s, best loss: 4.699772727272727]\n",
      "{'a': 0.2654680351438842, 'g': 0.3259611523396862}\n",
      "forecasted val in the 45 th          index is 2.7 and actual is 4          and the separation is1.0\n",
      "100%|██████████| 100/100 [00:00<00:00, 129.66it/s, best loss: 4.613333333333333]\n",
      "{'a': 0.2960762907676587, 'g': 0.24335066281765283}\n",
      "forecasted val in the 46 th          index is 3.2 and actual is 5          and the separation is2.0\n",
      "100%|██████████| 100/100 [00:00<00:00, 135.56it/s, best loss: 4.579782608695651]\n",
      "{'a': 0.26479418004948396, 'g': 0.25131672041050274}\n",
      "forecasted val in the 47 th          index is 3.8 and actual is 6          and the separation is2.0\n",
      "100%|██████████| 100/100 [00:00<00:00, 128.41it/s, best loss: 4.630425531914893]\n",
      "{'a': 0.3571293954833172, 'g': 0.1687440148373603}\n",
      "forecasted val in the 48 th          index is 4.8 and actual is 1          and the separation is4.0\n",
      "100%|██████████| 100/100 [00:00<00:00, 134.19it/s, best loss: 4.790208333333333]\n",
      "{'a': 0.2368396323020067, 'g': 0.29763794060724025}\n",
      "forecasted val in the 49 th          index is 3.6 and actual is 2          and the separation is2.0\n",
      "[6, 12, 18, 24, 30, 36, 42]\n",
      "100%|██████████| 100/100 [00:00<00:00, 131.86it/s, best loss: 4.733673469387756]\n",
      "{'a': 0.26188975913964996, 'g': 0.3415449267351844}\n",
      "forecasted val in the 50 th          index is 3.1 and actual is 3          and the separation is0.0\n",
      "100%|██████████| 100/100 [00:00<00:00, 129.61it/s, best loss: 4.5904]\n",
      "{'a': 0.28160844668076, 'g': 0.23992929915089742}\n",
      "forecasted val in the 51 th          index is 2.9 and actual is 4          and the separation is1.0\n",
      "100%|██████████| 100/100 [00:00<00:00, 130.30it/s, best loss: 4.581176470588235]\n",
      "{'a': 0.29452383957537176, 'g': 0.18048361454614292}\n",
      "forecasted val in the 52 th          index is 3.2 and actual is 5          and the separation is2.0\n",
      "100%|██████████| 100/100 [00:00<00:00, 130.01it/s, best loss: 4.511346153846153]\n",
      "{'a': 0.2631232705659313, 'g': 0.26404522838970207}\n",
      "forecasted val in the 53 th          index is 3.8 and actual is 6          and the separation is2.0\n",
      "100%|██████████| 100/100 [00:00<00:00, 129.87it/s, best loss: 4.560754716981132]\n",
      "{'a': 0.2941288956066057, 'g': 0.17851612080046814}\n",
      "forecasted val in the 54 th          index is 4.6 and actual is 1          and the separation is4.0\n",
      "100%|██████████| 100/100 [00:00<00:00, 123.43it/s, best loss: 4.702037037037036]\n",
      "{'a': 0.21363961814821825, 'g': 0.3308222688519523}\n",
      "forecasted val in the 55 th          index is 3.6 and actual is 2          and the separation is2.0\n",
      "100%|██████████| 100/100 [00:00<00:00, 130.27it/s, best loss: 4.6607272727272715]\n",
      "{'a': 0.21340565004433878, 'g': 0.43717303599564233}\n",
      "forecasted val in the 56 th          index is 3.2 and actual is 3          and the separation is0.0\n",
      "100%|██████████| 100/100 [00:00<00:00, 129.40it/s, best loss: 4.5725]           \n",
      "{'a': 0.1613118068856189, 'g': 0.5820544815320584}\n",
      "forecasted val in the 57 th          index is 3.0 and actual is 4          and the separation is1.0\n",
      "100%|██████████| 100/100 [00:00<00:00, 123.38it/s, best loss: 4.4835087719298246]\n",
      "{'a': 0.22971586498557067, 'g': 0.2822179986014074}\n",
      "forecasted val in the 58 th          index is 3.1 and actual is 5          and the separation is2.0\n",
      "100%|██████████| 100/100 [00:00<00:00, 129.89it/s, best loss: 4.510689655172414]\n",
      "{'a': 0.3003509291984872, 'g': 0.17928908645603414}\n",
      "forecasted val in the 59 th          index is 3.8 and actual is 6          and the separation is2.0\n",
      "[6, 12, 18, 24, 30, 36, 42, 48, 54]\n",
      "100%|██████████| 100/100 [00:00<00:00, 130.15it/s, best loss: 4.503898305084746]\n",
      "{'a': 0.2970845234058159, 'g': 0.2373230573325653}\n",
      "forecasted val in the 60 th          index is 4.6 and actual is 1          and the separation is4.0\n",
      "100%|██████████| 100/100 [00:00<00:00, 121.54it/s, best loss: 4.634833333333333]\n",
      "{'a': 0.25681793645185624, 'g': 0.2447903063196758}\n",
      "forecasted val in the 61 th          index is 3.6 and actual is 2          and the separation is2.0\n",
      "100%|██████████| 100/100 [00:00<00:00, 131.67it/s, best loss: 4.571147540983607]\n",
      "{'a': 0.23015420636411, 'g': 0.2909316007529539}\n",
      "forecasted val in the 62 th          index is 3.1 and actual is 3          and the separation is0.0\n",
      "100%|██████████| 100/100 [00:00<00:00, 122.72it/s, best loss: 4.535645161290323]\n",
      "{'a': 0.20073406559951595, 'g': 0.29057892617989034}\n",
      "forecasted val in the 63 th          index is 3.1 and actual is 4          and the separation is1.0\n",
      "100%|██████████| 100/100 [00:01<00:00, 99.05it/s, best loss: 4.443174603174603]\n",
      "{'a': 0.2268026617569781, 'g': 0.2880771024614888}\n",
      "forecasted val in the 64 th          index is 3.1 and actual is 5          and the separation is2.0\n",
      "100%|██████████| 100/100 [00:00<00:00, 106.98it/s, best loss: 4.45234375]\n",
      "{'a': 0.15966238558401402, 'g': 0.4758971111658403}\n",
      "forecasted val in the 65 th          index is 3.7 and actual is 6          and the separation is2.0\n",
      "100%|██████████| 100/100 [00:00<00:00, 109.83it/s, best loss: 4.493230769230769]\n",
      "{'a': 0.20709475475260064, 'g': 0.40100046923071775}\n",
      "forecasted val in the 66 th          index is 4.4 and actual is 1          and the separation is3.0\n",
      "100%|██████████| 100/100 [00:00<00:00, 110.76it/s, best loss: 4.55409090909091] \n",
      "{'a': 0.23235313096648094, 'g': 0.2851257343002313}\n",
      "forecasted val in the 67 th          index is 3.6 and actual is 2          and the separation is2.0\n",
      "100%|██████████| 100/100 [00:00<00:00, 119.46it/s, best loss: 4.558955223880597]\n",
      "{'a': 0.2377078365156578, 'g': 0.2448192603290872}\n",
      "forecasted val in the 68 th          index is 3.2 and actual is 3          and the separation is0.0\n",
      "100%|██████████| 100/100 [00:00<00:00, 121.30it/s, best loss: 4.488676470588236]\n",
      "{'a': 0.23000656065381897, 'g': 0.23988999180128823}\n",
      "forecasted val in the 69 th          index is 3.1 and actual is 4          and the separation is1.0\n",
      "[6, 12, 18, 24, 30, 36, 42, 48, 52, 54, 58]\n",
      "100%|██████████| 100/100 [00:00<00:00, 118.08it/s, best loss: 4.432173913043477]\n",
      "{'a': 0.2771301701851847, 'g': 0.24588991568545052}\n",
      "forecasted val in the 70 th          index is 3.2 and actual is 5          and the separation is2.0\n",
      "100%|██████████| 100/100 [00:00<00:00, 116.27it/s, best loss: 4.424571428571429]\n",
      "{'a': 0.1612461745958613, 'g': 0.5419982769453112}\n",
      "forecasted val in the 71 th          index is 3.6 and actual is 6          and the separation is2.0\n"
     ]
    },
    {
     "name": "stdout",
     "output_type": "stream",
     "text": [
      "100%|██████████| 100/100 [00:00<00:00, 131.78it/s, best loss: 4.4291549295774635]\n",
      "{'a': 0.26822140649464254, 'g': 0.2580734644845717}\n",
      "forecasted val in the 72 th          index is 4.6 and actual is 1          and the separation is4.0\n",
      "100%|██████████| 100/100 [00:00<00:00, 125.06it/s, best loss: 4.4776388888888885]\n",
      "{'a': 0.19986263916765806, 'g': 0.332099298685435}\n",
      "forecasted val in the 73 th          index is 3.6 and actual is 2          and the separation is2.0\n",
      "100%|██████████| 100/100 [00:00<00:00, 121.80it/s, best loss: 4.491917808219179]\n",
      "{'a': 0.20256186410903207, 'g': 0.2894571538420579}\n",
      "forecasted val in the 74 th          index is 3.2 and actual is 3          and the separation is0.0\n",
      "100%|██████████| 100/100 [00:00<00:00, 119.62it/s, best loss: 4.409594594594595]\n",
      "{'a': 0.1897117616956895, 'g': 0.3610705310058435}\n",
      "forecasted val in the 75 th          index is 3.1 and actual is 4          and the separation is1.0\n",
      "100%|██████████| 100/100 [00:00<00:00, 115.24it/s, best loss: 4.391866666666667]\n",
      "{'a': 0.255192133815114, 'g': 0.25018238168014767}\n",
      "forecasted val in the 76 th          index is 3.1 and actual is 5          and the separation is2.0\n",
      " 97%|█████████▋| 97/100 [00:00<00:00, 124.84it/s, best loss: 4.3598684210526315]\n"
     ]
    },
    {
     "ename": "KeyboardInterrupt",
     "evalue": "",
     "output_type": "error",
     "traceback": [
      "\u001b[0;31m---------------------------------------------------------------------------\u001b[0m",
      "\u001b[0;31mKeyboardInterrupt\u001b[0m                         Traceback (most recent call last)",
      "\u001b[0;32m<ipython-input-73-1c3a6f352704>\u001b[0m in \u001b[0;36m<module>\u001b[0;34m\u001b[0m\n\u001b[1;32m     12\u001b[0m                 \u001b[0mprint\u001b[0m\u001b[0;34m(\u001b[0m\u001b[0;34m'No season'\u001b[0m\u001b[0;34m)\u001b[0m\u001b[0;34m\u001b[0m\u001b[0;34m\u001b[0m\u001b[0m\n\u001b[1;32m     13\u001b[0m \u001b[0;34m\u001b[0m\u001b[0m\n\u001b[0;32m---> 14\u001b[0;31m         \u001b[0mbest\u001b[0m \u001b[0;34m=\u001b[0m \u001b[0mfunc\u001b[0m\u001b[0;34m(\u001b[0m\u001b[0mlist\u001b[0m\u001b[0;34m(\u001b[0m\u001b[0moriginal\u001b[0m\u001b[0;34m)\u001b[0m\u001b[0;34m)\u001b[0m\u001b[0;34m\u001b[0m\u001b[0;34m\u001b[0m\u001b[0m\n\u001b[0m\u001b[1;32m     15\u001b[0m         \u001b[0mprint\u001b[0m\u001b[0;34m(\u001b[0m\u001b[0mbest\u001b[0m\u001b[0;34m)\u001b[0m\u001b[0;34m\u001b[0m\u001b[0;34m\u001b[0m\u001b[0m\n\u001b[1;32m     16\u001b[0m         \u001b[0mpred\u001b[0m \u001b[0;34m=\u001b[0m \u001b[0mdouble_exponential_smoothing\u001b[0m\u001b[0;34m(\u001b[0m\u001b[0mlist\u001b[0m\u001b[0;34m(\u001b[0m\u001b[0moriginal\u001b[0m\u001b[0;34m)\u001b[0m\u001b[0;34m,\u001b[0m\u001b[0;34m**\u001b[0m\u001b[0mbest\u001b[0m \u001b[0;34m)\u001b[0m\u001b[0;34m[\u001b[0m\u001b[0;36m1\u001b[0m\u001b[0;34m]\u001b[0m\u001b[0;34m[\u001b[0m\u001b[0;34m-\u001b[0m\u001b[0;36m1\u001b[0m\u001b[0;34m]\u001b[0m\u001b[0;34m\u001b[0m\u001b[0;34m\u001b[0m\u001b[0m\n",
      "\u001b[0;32m<ipython-input-41-eb61e7709c6c>\u001b[0m in \u001b[0;36mfunc\u001b[0;34m(x)\u001b[0m\n\u001b[1;32m     11\u001b[0m         \u001b[0malgo\u001b[0m\u001b[0;34m=\u001b[0m\u001b[0mtpe\u001b[0m\u001b[0;34m.\u001b[0m\u001b[0msuggest\u001b[0m\u001b[0;34m,\u001b[0m\u001b[0;34m\u001b[0m\u001b[0;34m\u001b[0m\u001b[0m\n\u001b[1;32m     12\u001b[0m         \u001b[0mmax_evals\u001b[0m\u001b[0;34m=\u001b[0m\u001b[0;36m100\u001b[0m \u001b[0;34m,\u001b[0m\u001b[0;34m\u001b[0m\u001b[0;34m\u001b[0m\u001b[0m\n\u001b[0;32m---> 13\u001b[0;31m         trials=tr)\n\u001b[0m\u001b[1;32m     14\u001b[0m     \u001b[0;32mreturn\u001b[0m \u001b[0mbest\u001b[0m\u001b[0;34m\u001b[0m\u001b[0;34m\u001b[0m\u001b[0m\n",
      "\u001b[0;32m~/anaconda3/envs/my_env/lib/python3.7/site-packages/hyperopt/fmin.py\u001b[0m in \u001b[0;36mfmin\u001b[0;34m(fn, space, algo, max_evals, trials, rstate, allow_trials_fmin, pass_expr_memo_ctrl, catch_eval_exceptions, verbose, return_argmin, points_to_evaluate, max_queue_len, show_progressbar)\u001b[0m\n\u001b[1;32m    401\u001b[0m             \u001b[0mcatch_eval_exceptions\u001b[0m\u001b[0;34m=\u001b[0m\u001b[0mcatch_eval_exceptions\u001b[0m\u001b[0;34m,\u001b[0m\u001b[0;34m\u001b[0m\u001b[0;34m\u001b[0m\u001b[0m\n\u001b[1;32m    402\u001b[0m             \u001b[0mreturn_argmin\u001b[0m\u001b[0;34m=\u001b[0m\u001b[0mreturn_argmin\u001b[0m\u001b[0;34m,\u001b[0m\u001b[0;34m\u001b[0m\u001b[0;34m\u001b[0m\u001b[0m\n\u001b[0;32m--> 403\u001b[0;31m             \u001b[0mshow_progressbar\u001b[0m\u001b[0;34m=\u001b[0m\u001b[0mshow_progressbar\u001b[0m\u001b[0;34m,\u001b[0m\u001b[0;34m\u001b[0m\u001b[0;34m\u001b[0m\u001b[0m\n\u001b[0m\u001b[1;32m    404\u001b[0m         )\n\u001b[1;32m    405\u001b[0m \u001b[0;34m\u001b[0m\u001b[0m\n",
      "\u001b[0;32m~/anaconda3/envs/my_env/lib/python3.7/site-packages/hyperopt/base.py\u001b[0m in \u001b[0;36mfmin\u001b[0;34m(self, fn, space, algo, max_evals, max_queue_len, rstate, verbose, pass_expr_memo_ctrl, catch_eval_exceptions, return_argmin, show_progressbar)\u001b[0m\n\u001b[1;32m    649\u001b[0m             \u001b[0mcatch_eval_exceptions\u001b[0m\u001b[0;34m=\u001b[0m\u001b[0mcatch_eval_exceptions\u001b[0m\u001b[0;34m,\u001b[0m\u001b[0;34m\u001b[0m\u001b[0;34m\u001b[0m\u001b[0m\n\u001b[1;32m    650\u001b[0m             \u001b[0mreturn_argmin\u001b[0m\u001b[0;34m=\u001b[0m\u001b[0mreturn_argmin\u001b[0m\u001b[0;34m,\u001b[0m\u001b[0;34m\u001b[0m\u001b[0;34m\u001b[0m\u001b[0m\n\u001b[0;32m--> 651\u001b[0;31m             show_progressbar=show_progressbar)\n\u001b[0m\u001b[1;32m    652\u001b[0m \u001b[0;34m\u001b[0m\u001b[0m\n\u001b[1;32m    653\u001b[0m \u001b[0;34m\u001b[0m\u001b[0m\n",
      "\u001b[0;32m~/anaconda3/envs/my_env/lib/python3.7/site-packages/hyperopt/fmin.py\u001b[0m in \u001b[0;36mfmin\u001b[0;34m(fn, space, algo, max_evals, trials, rstate, allow_trials_fmin, pass_expr_memo_ctrl, catch_eval_exceptions, verbose, return_argmin, points_to_evaluate, max_queue_len, show_progressbar)\u001b[0m\n\u001b[1;32m    420\u001b[0m                     show_progressbar=show_progressbar)\n\u001b[1;32m    421\u001b[0m     \u001b[0mrval\u001b[0m\u001b[0;34m.\u001b[0m\u001b[0mcatch_eval_exceptions\u001b[0m \u001b[0;34m=\u001b[0m \u001b[0mcatch_eval_exceptions\u001b[0m\u001b[0;34m\u001b[0m\u001b[0;34m\u001b[0m\u001b[0m\n\u001b[0;32m--> 422\u001b[0;31m     \u001b[0mrval\u001b[0m\u001b[0;34m.\u001b[0m\u001b[0mexhaust\u001b[0m\u001b[0;34m(\u001b[0m\u001b[0;34m)\u001b[0m\u001b[0;34m\u001b[0m\u001b[0;34m\u001b[0m\u001b[0m\n\u001b[0m\u001b[1;32m    423\u001b[0m     \u001b[0;32mif\u001b[0m \u001b[0mreturn_argmin\u001b[0m\u001b[0;34m:\u001b[0m\u001b[0;34m\u001b[0m\u001b[0;34m\u001b[0m\u001b[0m\n\u001b[1;32m    424\u001b[0m         \u001b[0;32mif\u001b[0m \u001b[0mlen\u001b[0m\u001b[0;34m(\u001b[0m\u001b[0mtrials\u001b[0m\u001b[0;34m.\u001b[0m\u001b[0mtrials\u001b[0m\u001b[0;34m)\u001b[0m \u001b[0;34m==\u001b[0m \u001b[0;36m0\u001b[0m\u001b[0;34m:\u001b[0m\u001b[0;34m\u001b[0m\u001b[0;34m\u001b[0m\u001b[0m\n",
      "\u001b[0;32m~/anaconda3/envs/my_env/lib/python3.7/site-packages/hyperopt/fmin.py\u001b[0m in \u001b[0;36mexhaust\u001b[0;34m(self)\u001b[0m\n\u001b[1;32m    274\u001b[0m     \u001b[0;32mdef\u001b[0m \u001b[0mexhaust\u001b[0m\u001b[0;34m(\u001b[0m\u001b[0mself\u001b[0m\u001b[0;34m)\u001b[0m\u001b[0;34m:\u001b[0m\u001b[0;34m\u001b[0m\u001b[0;34m\u001b[0m\u001b[0m\n\u001b[1;32m    275\u001b[0m         \u001b[0mn_done\u001b[0m \u001b[0;34m=\u001b[0m \u001b[0mlen\u001b[0m\u001b[0;34m(\u001b[0m\u001b[0mself\u001b[0m\u001b[0;34m.\u001b[0m\u001b[0mtrials\u001b[0m\u001b[0;34m)\u001b[0m\u001b[0;34m\u001b[0m\u001b[0;34m\u001b[0m\u001b[0m\n\u001b[0;32m--> 276\u001b[0;31m         \u001b[0mself\u001b[0m\u001b[0;34m.\u001b[0m\u001b[0mrun\u001b[0m\u001b[0;34m(\u001b[0m\u001b[0mself\u001b[0m\u001b[0;34m.\u001b[0m\u001b[0mmax_evals\u001b[0m \u001b[0;34m-\u001b[0m \u001b[0mn_done\u001b[0m\u001b[0;34m,\u001b[0m \u001b[0mblock_until_done\u001b[0m\u001b[0;34m=\u001b[0m\u001b[0mself\u001b[0m\u001b[0;34m.\u001b[0m\u001b[0masynchronous\u001b[0m\u001b[0;34m)\u001b[0m\u001b[0;34m\u001b[0m\u001b[0;34m\u001b[0m\u001b[0m\n\u001b[0m\u001b[1;32m    277\u001b[0m         \u001b[0mself\u001b[0m\u001b[0;34m.\u001b[0m\u001b[0mtrials\u001b[0m\u001b[0;34m.\u001b[0m\u001b[0mrefresh\u001b[0m\u001b[0;34m(\u001b[0m\u001b[0;34m)\u001b[0m\u001b[0;34m\u001b[0m\u001b[0;34m\u001b[0m\u001b[0m\n\u001b[1;32m    278\u001b[0m         \u001b[0;32mreturn\u001b[0m \u001b[0mself\u001b[0m\u001b[0;34m\u001b[0m\u001b[0;34m\u001b[0m\u001b[0m\n",
      "\u001b[0;32m~/anaconda3/envs/my_env/lib/python3.7/site-packages/hyperopt/fmin.py\u001b[0m in \u001b[0;36mrun\u001b[0;34m(self, N, block_until_done)\u001b[0m\n\u001b[1;32m    214\u001b[0m                         \u001b[0mn_to_enqueue\u001b[0m \u001b[0;34m=\u001b[0m \u001b[0mmin\u001b[0m\u001b[0;34m(\u001b[0m\u001b[0mself\u001b[0m\u001b[0;34m.\u001b[0m\u001b[0mmax_queue_len\u001b[0m \u001b[0;34m-\u001b[0m \u001b[0mqlen\u001b[0m\u001b[0;34m,\u001b[0m \u001b[0mN\u001b[0m \u001b[0;34m-\u001b[0m \u001b[0mn_queued\u001b[0m\u001b[0;34m)\u001b[0m\u001b[0;34m\u001b[0m\u001b[0;34m\u001b[0m\u001b[0m\n\u001b[1;32m    215\u001b[0m                         \u001b[0mnew_ids\u001b[0m \u001b[0;34m=\u001b[0m \u001b[0mtrials\u001b[0m\u001b[0;34m.\u001b[0m\u001b[0mnew_trial_ids\u001b[0m\u001b[0;34m(\u001b[0m\u001b[0mn_to_enqueue\u001b[0m\u001b[0;34m)\u001b[0m\u001b[0;34m\u001b[0m\u001b[0;34m\u001b[0m\u001b[0m\n\u001b[0;32m--> 216\u001b[0;31m                         \u001b[0mself\u001b[0m\u001b[0;34m.\u001b[0m\u001b[0mtrials\u001b[0m\u001b[0;34m.\u001b[0m\u001b[0mrefresh\u001b[0m\u001b[0;34m(\u001b[0m\u001b[0;34m)\u001b[0m\u001b[0;34m\u001b[0m\u001b[0;34m\u001b[0m\u001b[0m\n\u001b[0m\u001b[1;32m    217\u001b[0m                         \u001b[0;32mif\u001b[0m \u001b[0;36m0\u001b[0m\u001b[0;34m:\u001b[0m\u001b[0;34m\u001b[0m\u001b[0;34m\u001b[0m\u001b[0m\n\u001b[1;32m    218\u001b[0m                             \u001b[0;32mfor\u001b[0m \u001b[0md\u001b[0m \u001b[0;32min\u001b[0m \u001b[0mself\u001b[0m\u001b[0;34m.\u001b[0m\u001b[0mtrials\u001b[0m\u001b[0;34m.\u001b[0m\u001b[0mtrials\u001b[0m\u001b[0;34m:\u001b[0m\u001b[0;34m\u001b[0m\u001b[0;34m\u001b[0m\u001b[0m\n",
      "\u001b[0;32m~/anaconda3/envs/my_env/lib/python3.7/site-packages/hyperopt/base.py\u001b[0m in \u001b[0;36mrefresh\u001b[0;34m(self)\u001b[0m\n\u001b[1;32m    347\u001b[0m                             \u001b[0;32mfor\u001b[0m \u001b[0mtt\u001b[0m \u001b[0;32min\u001b[0m \u001b[0mself\u001b[0m\u001b[0;34m.\u001b[0m\u001b[0m_dynamic_trials\u001b[0m\u001b[0;34m\u001b[0m\u001b[0;34m\u001b[0m\u001b[0m\n\u001b[1;32m    348\u001b[0m                             if (tt['state'] in JOB_VALID_STATES and tt['exp_key'] == self._exp_key)]\n\u001b[0;32m--> 349\u001b[0;31m         \u001b[0mself\u001b[0m\u001b[0;34m.\u001b[0m\u001b[0m_ids\u001b[0m\u001b[0;34m.\u001b[0m\u001b[0mupdate\u001b[0m\u001b[0;34m(\u001b[0m\u001b[0;34m[\u001b[0m\u001b[0mtt\u001b[0m\u001b[0;34m[\u001b[0m\u001b[0;34m'tid'\u001b[0m\u001b[0;34m]\u001b[0m \u001b[0;32mfor\u001b[0m \u001b[0mtt\u001b[0m \u001b[0;32min\u001b[0m \u001b[0mself\u001b[0m\u001b[0;34m.\u001b[0m\u001b[0m_trials\u001b[0m\u001b[0;34m]\u001b[0m\u001b[0;34m)\u001b[0m\u001b[0;34m\u001b[0m\u001b[0;34m\u001b[0m\u001b[0m\n\u001b[0m\u001b[1;32m    350\u001b[0m \u001b[0;34m\u001b[0m\u001b[0m\n\u001b[1;32m    351\u001b[0m     \u001b[0;34m@\u001b[0m\u001b[0mproperty\u001b[0m\u001b[0;34m\u001b[0m\u001b[0;34m\u001b[0m\u001b[0m\n",
      "\u001b[0;32m~/anaconda3/envs/my_env/lib/python3.7/site-packages/hyperopt/base.py\u001b[0m in \u001b[0;36m<listcomp>\u001b[0;34m(.0)\u001b[0m\n\u001b[1;32m    347\u001b[0m                             \u001b[0;32mfor\u001b[0m \u001b[0mtt\u001b[0m \u001b[0;32min\u001b[0m \u001b[0mself\u001b[0m\u001b[0;34m.\u001b[0m\u001b[0m_dynamic_trials\u001b[0m\u001b[0;34m\u001b[0m\u001b[0;34m\u001b[0m\u001b[0m\n\u001b[1;32m    348\u001b[0m                             if (tt['state'] in JOB_VALID_STATES and tt['exp_key'] == self._exp_key)]\n\u001b[0;32m--> 349\u001b[0;31m         \u001b[0mself\u001b[0m\u001b[0;34m.\u001b[0m\u001b[0m_ids\u001b[0m\u001b[0;34m.\u001b[0m\u001b[0mupdate\u001b[0m\u001b[0;34m(\u001b[0m\u001b[0;34m[\u001b[0m\u001b[0mtt\u001b[0m\u001b[0;34m[\u001b[0m\u001b[0;34m'tid'\u001b[0m\u001b[0;34m]\u001b[0m \u001b[0;32mfor\u001b[0m \u001b[0mtt\u001b[0m \u001b[0;32min\u001b[0m \u001b[0mself\u001b[0m\u001b[0;34m.\u001b[0m\u001b[0m_trials\u001b[0m\u001b[0;34m]\u001b[0m\u001b[0;34m)\u001b[0m\u001b[0;34m\u001b[0m\u001b[0;34m\u001b[0m\u001b[0m\n\u001b[0m\u001b[1;32m    350\u001b[0m \u001b[0;34m\u001b[0m\u001b[0m\n\u001b[1;32m    351\u001b[0m     \u001b[0;34m@\u001b[0m\u001b[0mproperty\u001b[0m\u001b[0;34m\u001b[0m\u001b[0;34m\u001b[0m\u001b[0m\n",
      "\u001b[0;31mKeyboardInterrupt\u001b[0m: "
     ]
    }
   ],
   "source": [
    "original = deque(maxlen=100)\n",
    "created = deque(maxlen=100)\n",
    "forecast = deque(maxlen=100)\n",
    "i = 0\n",
    "for item in (datagen()):\n",
    "    if i >1:\n",
    "        if i %10== 0:\n",
    "            seasons = check_seasonality(list(original))\n",
    "            if isinstance(seasons, list):\n",
    "                print(seasons)\n",
    "            else:\n",
    "                print('No season')\n",
    "        \n",
    "        best = func(list(original))\n",
    "        print(best)\n",
    "        pred = double_exponential_smoothing(list(original),**best )[1][-1]\n",
    "        original.append(item)\n",
    "        created.append(pred)\n",
    "    else:\n",
    "        original.append(item)\n",
    "        created.append(0)\n",
    "    print( '''forecasted val in the {} th\\\n",
    "          index is {} and actual is {}\\\n",
    "          and the separation is{}'''.format(i, created[i] , original[i], np.around(np.abs(created[i]-original[i])) ))\n",
    "    i+=1"
   ]
  },
  {
   "cell_type": "code",
   "execution_count": 74,
   "metadata": {},
   "outputs": [
    {
     "data": {
      "text/plain": [
       "<matplotlib.legend.Legend at 0x7f2e55521190>"
      ]
     },
     "execution_count": 74,
     "metadata": {},
     "output_type": "execute_result"
    },
    {
     "data": {
      "image/png": "[encoded data removed]",
      "text/plain": [
       "<Figure size 720x360 with 1 Axes>"
      ]
     },
     "metadata": {
      "needs_background": "light"
     },
     "output_type": "display_data"
    }
   ],
   "source": [
    "figure = plt.figure(figsize=(10,5))\n",
    "plt.plot(original , label='original' )\n",
    "plt.plot( created, label = 'predicted' )\n",
    "plt.legend()"
   ]
  },
  {
   "cell_type": "code",
   "execution_count": null,
   "metadata": {},
   "outputs": [],
   "source": []
  },
  {
   "cell_type": "code",
   "execution_count": 39,
   "metadata": {},
   "outputs": [],
   "source": [
    "# compute_cost_cross({'a':hp.uniform('a', 0,1 ) , 'g':hp.uniform('g', 0,1) }, )"
   ]
  },
  {
   "cell_type": "code",
   "execution_count": 40,
   "metadata": {},
   "outputs": [],
   "source": [
    "# cost = partial(compute_cost_cross , X = df.Sales )"
   ]
  },
  {
   "cell_type": "code",
   "execution_count": 41,
   "metadata": {},
   "outputs": [],
   "source": [
    "def compute_cost_cross(args,X):\n",
    "    y = double_exponential_smoothing(X, **args)[1][1:-1]\n",
    "    loss = mean_squared_error( X[1:] ,y )   \n",
    "    return loss\n",
    "\n",
    "def func(x):\n",
    "    cost = partial(compute_cost_cross , X = x )\n",
    "    tr = Trials()\n",
    "    best = fmin(cost,\n",
    "        {'a':hp.uniform('a', 0,1 ) , 'g':hp.uniform('g', 0,1) },\n",
    "        algo=tpe.suggest,\n",
    "        max_evals=100 ,\n",
    "        trials=tr)\n",
    "    return best"
   ]
  },
  {
   "cell_type": "code",
   "execution_count": 42,
   "metadata": {},
   "outputs": [
    {
     "name": "stdout",
     "output_type": "stream",
     "text": [
      "100%|██████████| 100/100 [00:00<00:00, 119.06it/s, best loss: 7232.181428571428]\n"
     ]
    }
   ],
   "source": [
    "best = func(df.Sales)"
   ]
  },
  {
   "cell_type": "code",
   "execution_count": 43,
   "metadata": {},
   "outputs": [
    {
     "name": "stdout",
     "output_type": "stream",
     "text": [
      "{'a': 0.3489202634165264, 'g': 0.3368934295572774}\n"
     ]
    }
   ],
   "source": [
    "print(best)"
   ]
  },
  {
   "cell_type": "code",
   "execution_count": 46,
   "metadata": {},
   "outputs": [],
   "source": [
    "# losses = [ x['loss'] for x in tr.results ]\n",
    "# min_index = np.argmin( losses )"
   ]
  },
  {
   "cell_type": "code",
   "execution_count": 47,
   "metadata": {},
   "outputs": [],
   "source": [
    "# min_index, losses[min_index]"
   ]
  },
  {
   "cell_type": "code",
   "execution_count": 20,
   "metadata": {},
   "outputs": [
    {
     "data": {
      "text/plain": [
       "11556"
      ]
     },
     "execution_count": 20,
     "metadata": {},
     "output_type": "execute_result"
    }
   ],
   "source": [
    "1284*9"
   ]
  },
  {
   "cell_type": "code",
   "execution_count": 22,
   "metadata": {},
   "outputs": [
    {
     "data": {
      "text/plain": [
       "1.2547594323295257"
      ]
     },
     "execution_count": 22,
     "metadata": {},
     "output_type": "execute_result"
    }
   ],
   "source": [
    "(145/11556)*100"
   ]
  },
  {
   "cell_type": "code",
   "execution_count": 58,
   "metadata": {},
   "outputs": [],
   "source": [
    "from scipy.signal import correlate"
   ]
  },
  {
   "cell_type": "code",
   "execution_count": 59,
   "metadata": {},
   "outputs": [
    {
     "data": {
      "text/plain": [
       "array([  6,  17,  32,  50,  70,  91,  82,  84,  96, 117, 146, 182, 158,\n",
       "       151, 160, 184, 222, 273, 234, 218, 224, 251, 298, 364, 298, 251,\n",
       "       224, 218, 234, 273, 222, 184, 160, 151, 158, 182, 146, 117,  96,\n",
       "        84,  82,  91,  70,  50,  32,  17,   6])"
      ]
     },
     "execution_count": 59,
     "metadata": {},
     "output_type": "execute_result"
    }
   ],
   "source": [
    "correlate(x,x)"
   ]
  },
  {
   "cell_type": "code",
   "execution_count": null,
   "metadata": {},
   "outputs": [],
   "source": []
  }
 ],
 "metadata": {
  "kernelspec": {
   "display_name": "Python 3",
   "language": "python",
   "name": "python3"
  },
  "language_info": {
   "codemirror_mode": {
    "name": "ipython",
    "version": 3
   },
   "file_extension": ".py",
   "mimetype": "text/x-python",
   "name": "python",
   "nbconvert_exporter": "python",
   "pygments_lexer": "ipython3",
   "version": "3.7.5"
  }
 },
 "nbformat": 4,
 "nbformat_minor": 2
}
